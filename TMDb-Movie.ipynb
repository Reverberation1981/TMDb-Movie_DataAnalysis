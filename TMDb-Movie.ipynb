{
 "cells": [
  {
   "cell_type": "markdown",
   "metadata": {},
   "source": [
    "# Project: Investigating TMDb Movie Data"
   ]
  },
  {
   "cell_type": "markdown",
   "metadata": {},
   "source": [
    "# TMDb Movie Data:\n",
    "\n",
    "The dataset being explored in this project consists of ~10,000 Movies and was originally retrieved from Kaggle. Each movie includes information on its Budget, Popularity, and Revenue."
   ]
  },
  {
   "cell_type": "markdown",
   "metadata": {},
   "source": [
    "# Exploration Questions:\n",
    "\n",
    "How is the revenue of a movie affected by its popularity?\n",
    "\n",
    "What correlations are there between the budget of a movie and its popularity?\n",
    "\n",
    "Based on the information from the above comparisons, how do revenue and budget compare?"
   ]
  },
  {
   "cell_type": "code",
   "execution_count": 166,
   "metadata": {},
   "outputs": [
    {
     "name": "stdout",
     "output_type": "stream",
     "text": [
      "Populating the interactive namespace from numpy and matplotlib\n"
     ]
    },
    {
     "data": {
      "text/html": [
       "<div>\n",
       "<style scoped>\n",
       "    .dataframe tbody tr th:only-of-type {\n",
       "        vertical-align: middle;\n",
       "    }\n",
       "\n",
       "    .dataframe tbody tr th {\n",
       "        vertical-align: top;\n",
       "    }\n",
       "\n",
       "    .dataframe thead th {\n",
       "        text-align: right;\n",
       "    }\n",
       "</style>\n",
       "<table border=\"1\" class=\"dataframe\">\n",
       "  <thead>\n",
       "    <tr style=\"text-align: right;\">\n",
       "      <th></th>\n",
       "      <th>id</th>\n",
       "      <th>imdb_id</th>\n",
       "      <th>popularity</th>\n",
       "      <th>budget</th>\n",
       "      <th>revenue</th>\n",
       "      <th>original_title</th>\n",
       "      <th>cast</th>\n",
       "      <th>homepage</th>\n",
       "      <th>director</th>\n",
       "      <th>tagline</th>\n",
       "      <th>...</th>\n",
       "      <th>overview</th>\n",
       "      <th>runtime</th>\n",
       "      <th>genres</th>\n",
       "      <th>production_companies</th>\n",
       "      <th>release_date</th>\n",
       "      <th>vote_count</th>\n",
       "      <th>vote_average</th>\n",
       "      <th>release_year</th>\n",
       "      <th>budget_adj</th>\n",
       "      <th>revenue_adj</th>\n",
       "    </tr>\n",
       "  </thead>\n",
       "  <tbody>\n",
       "    <tr>\n",
       "      <th>0</th>\n",
       "      <td>135397</td>\n",
       "      <td>tt0369610</td>\n",
       "      <td>32.985763</td>\n",
       "      <td>150000000</td>\n",
       "      <td>1513528810</td>\n",
       "      <td>Jurassic World</td>\n",
       "      <td>Chris Pratt|Bryce Dallas Howard|Irrfan Khan|Vi...</td>\n",
       "      <td>http://www.jurassicworld.com/</td>\n",
       "      <td>Colin Trevorrow</td>\n",
       "      <td>The park is open.</td>\n",
       "      <td>...</td>\n",
       "      <td>Twenty-two years after the events of Jurassic ...</td>\n",
       "      <td>124</td>\n",
       "      <td>Action|Adventure|Science Fiction|Thriller</td>\n",
       "      <td>Universal Studios|Amblin Entertainment|Legenda...</td>\n",
       "      <td>6/9/15</td>\n",
       "      <td>5562</td>\n",
       "      <td>6.5</td>\n",
       "      <td>2015</td>\n",
       "      <td>1.379999e+08</td>\n",
       "      <td>1.392446e+09</td>\n",
       "    </tr>\n",
       "    <tr>\n",
       "      <th>1</th>\n",
       "      <td>76341</td>\n",
       "      <td>tt1392190</td>\n",
       "      <td>28.419936</td>\n",
       "      <td>150000000</td>\n",
       "      <td>378436354</td>\n",
       "      <td>Mad Max: Fury Road</td>\n",
       "      <td>Tom Hardy|Charlize Theron|Hugh Keays-Byrne|Nic...</td>\n",
       "      <td>http://www.madmaxmovie.com/</td>\n",
       "      <td>George Miller</td>\n",
       "      <td>What a Lovely Day.</td>\n",
       "      <td>...</td>\n",
       "      <td>An apocalyptic story set in the furthest reach...</td>\n",
       "      <td>120</td>\n",
       "      <td>Action|Adventure|Science Fiction|Thriller</td>\n",
       "      <td>Village Roadshow Pictures|Kennedy Miller Produ...</td>\n",
       "      <td>5/13/15</td>\n",
       "      <td>6185</td>\n",
       "      <td>7.1</td>\n",
       "      <td>2015</td>\n",
       "      <td>1.379999e+08</td>\n",
       "      <td>3.481613e+08</td>\n",
       "    </tr>\n",
       "    <tr>\n",
       "      <th>2</th>\n",
       "      <td>262500</td>\n",
       "      <td>tt2908446</td>\n",
       "      <td>13.112507</td>\n",
       "      <td>110000000</td>\n",
       "      <td>295238201</td>\n",
       "      <td>Insurgent</td>\n",
       "      <td>Shailene Woodley|Theo James|Kate Winslet|Ansel...</td>\n",
       "      <td>http://www.thedivergentseries.movie/#insurgent</td>\n",
       "      <td>Robert Schwentke</td>\n",
       "      <td>One Choice Can Destroy You</td>\n",
       "      <td>...</td>\n",
       "      <td>Beatrice Prior must confront her inner demons ...</td>\n",
       "      <td>119</td>\n",
       "      <td>Adventure|Science Fiction|Thriller</td>\n",
       "      <td>Summit Entertainment|Mandeville Films|Red Wago...</td>\n",
       "      <td>3/18/15</td>\n",
       "      <td>2480</td>\n",
       "      <td>6.3</td>\n",
       "      <td>2015</td>\n",
       "      <td>1.012000e+08</td>\n",
       "      <td>2.716190e+08</td>\n",
       "    </tr>\n",
       "    <tr>\n",
       "      <th>3</th>\n",
       "      <td>140607</td>\n",
       "      <td>tt2488496</td>\n",
       "      <td>11.173104</td>\n",
       "      <td>200000000</td>\n",
       "      <td>2068178225</td>\n",
       "      <td>Star Wars: The Force Awakens</td>\n",
       "      <td>Harrison Ford|Mark Hamill|Carrie Fisher|Adam D...</td>\n",
       "      <td>http://www.starwars.com/films/star-wars-episod...</td>\n",
       "      <td>J.J. Abrams</td>\n",
       "      <td>Every generation has a story.</td>\n",
       "      <td>...</td>\n",
       "      <td>Thirty years after defeating the Galactic Empi...</td>\n",
       "      <td>136</td>\n",
       "      <td>Action|Adventure|Science Fiction|Fantasy</td>\n",
       "      <td>Lucasfilm|Truenorth Productions|Bad Robot</td>\n",
       "      <td>12/15/15</td>\n",
       "      <td>5292</td>\n",
       "      <td>7.5</td>\n",
       "      <td>2015</td>\n",
       "      <td>1.839999e+08</td>\n",
       "      <td>1.902723e+09</td>\n",
       "    </tr>\n",
       "    <tr>\n",
       "      <th>4</th>\n",
       "      <td>168259</td>\n",
       "      <td>tt2820852</td>\n",
       "      <td>9.335014</td>\n",
       "      <td>190000000</td>\n",
       "      <td>1506249360</td>\n",
       "      <td>Furious 7</td>\n",
       "      <td>Vin Diesel|Paul Walker|Jason Statham|Michelle ...</td>\n",
       "      <td>http://www.furious7.com/</td>\n",
       "      <td>James Wan</td>\n",
       "      <td>Vengeance Hits Home</td>\n",
       "      <td>...</td>\n",
       "      <td>Deckard Shaw seeks revenge against Dominic Tor...</td>\n",
       "      <td>137</td>\n",
       "      <td>Action|Crime|Thriller</td>\n",
       "      <td>Universal Pictures|Original Film|Media Rights ...</td>\n",
       "      <td>4/1/15</td>\n",
       "      <td>2947</td>\n",
       "      <td>7.3</td>\n",
       "      <td>2015</td>\n",
       "      <td>1.747999e+08</td>\n",
       "      <td>1.385749e+09</td>\n",
       "    </tr>\n",
       "  </tbody>\n",
       "</table>\n",
       "<p>5 rows × 21 columns</p>\n",
       "</div>"
      ],
      "text/plain": [
       "       id    imdb_id  popularity     budget     revenue  \\\n",
       "0  135397  tt0369610   32.985763  150000000  1513528810   \n",
       "1   76341  tt1392190   28.419936  150000000   378436354   \n",
       "2  262500  tt2908446   13.112507  110000000   295238201   \n",
       "3  140607  tt2488496   11.173104  200000000  2068178225   \n",
       "4  168259  tt2820852    9.335014  190000000  1506249360   \n",
       "\n",
       "                 original_title  \\\n",
       "0                Jurassic World   \n",
       "1            Mad Max: Fury Road   \n",
       "2                     Insurgent   \n",
       "3  Star Wars: The Force Awakens   \n",
       "4                     Furious 7   \n",
       "\n",
       "                                                cast  \\\n",
       "0  Chris Pratt|Bryce Dallas Howard|Irrfan Khan|Vi...   \n",
       "1  Tom Hardy|Charlize Theron|Hugh Keays-Byrne|Nic...   \n",
       "2  Shailene Woodley|Theo James|Kate Winslet|Ansel...   \n",
       "3  Harrison Ford|Mark Hamill|Carrie Fisher|Adam D...   \n",
       "4  Vin Diesel|Paul Walker|Jason Statham|Michelle ...   \n",
       "\n",
       "                                            homepage          director  \\\n",
       "0                      http://www.jurassicworld.com/   Colin Trevorrow   \n",
       "1                        http://www.madmaxmovie.com/     George Miller   \n",
       "2     http://www.thedivergentseries.movie/#insurgent  Robert Schwentke   \n",
       "3  http://www.starwars.com/films/star-wars-episod...       J.J. Abrams   \n",
       "4                           http://www.furious7.com/         James Wan   \n",
       "\n",
       "                         tagline      ...       \\\n",
       "0              The park is open.      ...        \n",
       "1             What a Lovely Day.      ...        \n",
       "2     One Choice Can Destroy You      ...        \n",
       "3  Every generation has a story.      ...        \n",
       "4            Vengeance Hits Home      ...        \n",
       "\n",
       "                                            overview runtime  \\\n",
       "0  Twenty-two years after the events of Jurassic ...     124   \n",
       "1  An apocalyptic story set in the furthest reach...     120   \n",
       "2  Beatrice Prior must confront her inner demons ...     119   \n",
       "3  Thirty years after defeating the Galactic Empi...     136   \n",
       "4  Deckard Shaw seeks revenge against Dominic Tor...     137   \n",
       "\n",
       "                                      genres  \\\n",
       "0  Action|Adventure|Science Fiction|Thriller   \n",
       "1  Action|Adventure|Science Fiction|Thriller   \n",
       "2         Adventure|Science Fiction|Thriller   \n",
       "3   Action|Adventure|Science Fiction|Fantasy   \n",
       "4                      Action|Crime|Thriller   \n",
       "\n",
       "                                production_companies release_date vote_count  \\\n",
       "0  Universal Studios|Amblin Entertainment|Legenda...       6/9/15       5562   \n",
       "1  Village Roadshow Pictures|Kennedy Miller Produ...      5/13/15       6185   \n",
       "2  Summit Entertainment|Mandeville Films|Red Wago...      3/18/15       2480   \n",
       "3          Lucasfilm|Truenorth Productions|Bad Robot     12/15/15       5292   \n",
       "4  Universal Pictures|Original Film|Media Rights ...       4/1/15       2947   \n",
       "\n",
       "   vote_average  release_year    budget_adj   revenue_adj  \n",
       "0           6.5          2015  1.379999e+08  1.392446e+09  \n",
       "1           7.1          2015  1.379999e+08  3.481613e+08  \n",
       "2           6.3          2015  1.012000e+08  2.716190e+08  \n",
       "3           7.5          2015  1.839999e+08  1.902723e+09  \n",
       "4           7.3          2015  1.747999e+08  1.385749e+09  \n",
       "\n",
       "[5 rows x 21 columns]"
      ]
     },
     "execution_count": 166,
     "metadata": {},
     "output_type": "execute_result"
    }
   ],
   "source": [
    "# Import statements\n",
    "%pylab inline\n",
    "import pandas as pd\n",
    "import numpy as np\n",
    "import seaborn as sns\n",
    "import matplotlib.pyplot as plt\n",
    "\n",
    "# Loading the Data Set and seeing what it looks like\n",
    "movies_df = pd.read_csv('tmdb-movies.csv')\n",
    "movies_df.head()"
   ]
  },
  {
   "cell_type": "markdown",
   "metadata": {},
   "source": [
    "# Data Cleaning\n",
    "\n",
    "1) Sizing Data\n",
    "    - Getting rid of null/na/useless values/lower outliers\n",
    "    - Removing Duplicates\n",
    "\n",
    "2) Grouping movies\n",
    "    - Creating values to group by Popularity"
   ]
  },
  {
   "cell_type": "code",
   "execution_count": 167,
   "metadata": {},
   "outputs": [
    {
     "name": "stdout",
     "output_type": "stream",
     "text": [
      "<class 'pandas.core.frame.DataFrame'>\n",
      "Int64Index: 3819 entries, 0 to 10848\n",
      "Data columns (total 21 columns):\n",
      "id                      3819 non-null int64\n",
      "imdb_id                 3819 non-null object\n",
      "popularity              3819 non-null float64\n",
      "budget                  3819 non-null int64\n",
      "revenue                 3819 non-null int64\n",
      "original_title          3819 non-null object\n",
      "cast                    3815 non-null object\n",
      "homepage                1416 non-null object\n",
      "director                3818 non-null object\n",
      "tagline                 3546 non-null object\n",
      "keywords                3686 non-null object\n",
      "overview                3819 non-null object\n",
      "runtime                 3819 non-null int64\n",
      "genres                  3819 non-null object\n",
      "production_companies    3775 non-null object\n",
      "release_date            3819 non-null object\n",
      "vote_count              3819 non-null int64\n",
      "vote_average            3819 non-null float64\n",
      "release_year            3819 non-null int64\n",
      "budget_adj              3819 non-null float64\n",
      "revenue_adj             3819 non-null float64\n",
      "dtypes: float64(4), int64(6), object(11)\n",
      "memory usage: 656.4+ KB\n"
     ]
    }
   ],
   "source": [
    "# Implicitly dropping null/na/useless values/lower outliers\n",
    "new_df = movies_df[movies_df['budget'] > 1000]\n",
    "new_df = new_df[new_df['popularity'] > 0]\n",
    "new_df = new_df[new_df['revenue'] > 1000]\n",
    "\n",
    "# Found any duplicates within the data frame and removing them\n",
    "new_df.duplicated().sum()\n",
    "new_df.drop_duplicates(inplace=True)\n",
    "\n",
    "# Confirming removal of duplicates\n",
    "new_df.info()\n",
    "\n",
    "# Creating copies of the new dataframe to use\n",
    "copy_df = new_df.copy(deep=True)"
   ]
  },
  {
   "cell_type": "code",
   "execution_count": 168,
   "metadata": {},
   "outputs": [],
   "source": [
    "# Groups by the field name based on the restriction values of the range\n",
    "def groupValues(field_name, values):\n",
    "    for n in range(1, len(values)):\n",
    "        copy_df.loc[(copy_df[field_name] > values[n-1]) & (copy_df[field_name] <= values[n]), field_name] = n\n",
    "    print(copy_df[copy_df['popularity'] == 1].count())\n",
    "    print(copy_df[copy_df['popularity'] == 2].count())\n",
    "    print(copy_df[copy_df['popularity'] == 3].count())"
   ]
  },
  {
   "cell_type": "code",
   "execution_count": 169,
   "metadata": {},
   "outputs": [
    {
     "name": "stdout",
     "output_type": "stream",
     "text": [
      "id                      2298\n",
      "imdb_id                 2298\n",
      "popularity              2298\n",
      "budget                  2298\n",
      "revenue                 2298\n",
      "original_title          2298\n",
      "cast                    2294\n",
      "homepage                 643\n",
      "director                2297\n",
      "tagline                 2060\n",
      "keywords                2184\n",
      "overview                2298\n",
      "runtime                 2298\n",
      "genres                  2298\n",
      "production_companies    2254\n",
      "release_date            2298\n",
      "vote_count              2298\n",
      "vote_average            2298\n",
      "release_year            2298\n",
      "budget_adj              2298\n",
      "revenue_adj             2298\n",
      "dtype: int64\n",
      "id                      979\n",
      "imdb_id                 979\n",
      "popularity              979\n",
      "budget                  979\n",
      "revenue                 979\n",
      "original_title          979\n",
      "cast                    979\n",
      "homepage                416\n",
      "director                979\n",
      "tagline                 950\n",
      "keywords                962\n",
      "overview                979\n",
      "runtime                 979\n",
      "genres                  979\n",
      "production_companies    979\n",
      "release_date            979\n",
      "vote_count              979\n",
      "vote_average            979\n",
      "release_year            979\n",
      "budget_adj              979\n",
      "revenue_adj             979\n",
      "dtype: int64\n",
      "id                      292\n",
      "imdb_id                 292\n",
      "popularity              292\n",
      "budget                  292\n",
      "revenue                 292\n",
      "original_title          292\n",
      "cast                    292\n",
      "homepage                170\n",
      "director                292\n",
      "tagline                 288\n",
      "keywords                290\n",
      "overview                292\n",
      "runtime                 292\n",
      "genres                  292\n",
      "production_companies    292\n",
      "release_date            292\n",
      "vote_count              292\n",
      "vote_average            292\n",
      "release_year            292\n",
      "budget_adj              292\n",
      "revenue_adj             292\n",
      "dtype: int64\n"
     ]
    }
   ],
   "source": [
    "restrictions = [-1, 1, 2, 3, 4, 5, 10, 15, 35]\n",
    "name = 'popularity'\n",
    "\n",
    "groupValues(name, restrictions)"
   ]
  },
  {
   "cell_type": "code",
   "execution_count": 170,
   "metadata": {},
   "outputs": [
    {
     "name": "stdout",
     "output_type": "stream",
     "text": [
      "Revenue:\n",
      "popularity\n",
      "1.0    4.432478e+07\n",
      "2.0    1.328997e+08\n",
      "3.0    2.346857e+08\n",
      "4.0    3.256799e+08\n",
      "5.0    4.961875e+08\n",
      "6.0    5.864303e+08\n",
      "7.0    8.016067e+08\n",
      "8.0    8.379059e+08\n",
      "Name: revenue, dtype: float64\n",
      "\n",
      "Budget:\n",
      "popularity\n",
      "1.0    2.383699e+07\n",
      "2.0    4.685689e+07\n",
      "3.0    6.434009e+07\n",
      "4.0    7.428783e+07\n",
      "5.0    1.095625e+08\n",
      "6.0    1.092847e+08\n",
      "7.0    1.320000e+08\n",
      "8.0    1.550000e+08\n",
      "Name: budget, dtype: float64\n"
     ]
    }
   ],
   "source": [
    "# Confirming groupby popularity for revenue and budget values\n",
    "print(\"Revenue:\")\n",
    "print(copy_df.groupby('popularity').mean()['revenue'])\n",
    "print()\n",
    "print(\"Budget:\")\n",
    "print(copy_df.groupby('popularity').mean()['budget'])"
   ]
  },
  {
   "cell_type": "markdown",
   "metadata": {},
   "source": [
    "# Data Visualization\n",
    "\n",
    "1) Plotting Revenue by Popularity\n",
    "    - Bar Plot\n",
    "    - Line Plot\n",
    "    \n",
    "2) Plotting Budget by Popularity\n",
    "    - Bar Plot\n",
    "    - Line Plot\n",
    "    \n",
    "3) Plotting Budget by Revenue\n",
    "    - Bar Plot\n",
    "    - Line Plot"
   ]
  },
  {
   "cell_type": "code",
   "execution_count": 171,
   "metadata": {},
   "outputs": [
    {
     "data": {
      "text/plain": [
       "Text(0,0.5,'Revenue')"
      ]
     },
     "execution_count": 171,
     "metadata": {},
     "output_type": "execute_result"
    },
    {
     "data": {
      "image/png": "[encoded data removed]",
      "text/plain": [
       "<matplotlib.figure.Figure at 0x1d290f8be10>"
      ]
     },
     "metadata": {},
     "output_type": "display_data"
    },
    {
     "data": {
      "image/png": "[encoded data removed]",
      "text/plain": [
       "<matplotlib.figure.Figure at 0x1d297e89470>"
      ]
     },
     "metadata": {},
     "output_type": "display_data"
    }
   ],
   "source": [
    "# Grouping data by popularity and plotting revenue\n",
    "\n",
    "# Bar Plot\n",
    "fig = plt.figure()\n",
    "copy_df.groupby('popularity').mean()['revenue'].plot(kind='bar')\n",
    "fig.suptitle('Revenue by Popularity', fontsize=20)\n",
    "plt.xlabel('Popularity', fontsize=18)\n",
    "plt.ylabel('Revenue', fontsize=18)\n",
    "\n",
    "# Line Plot\n",
    "fig = plt.figure()\n",
    "copy_df.groupby('popularity').mean()['revenue'].plot(kind='line')\n",
    "fig.suptitle('Revenue by Popularity', fontsize=20)\n",
    "plt.xlabel('Popularity', fontsize=18)\n",
    "plt.ylabel('Revenue', fontsize=18)"
   ]
  },
  {
   "cell_type": "markdown",
   "metadata": {},
   "source": [
    "As popularity increased, revenue seemed to be proportionally related and increased. This tells me that revenue may have dependence on the popularity of a movie."
   ]
  },
  {
   "cell_type": "code",
   "execution_count": 172,
   "metadata": {},
   "outputs": [
    {
     "data": {
      "text/plain": [
       "Text(0,0.5,'Budget')"
      ]
     },
     "execution_count": 172,
     "metadata": {},
     "output_type": "execute_result"
    },
    {
     "data": {
      "image/png": "[encoded data removed]",
      "text/plain": [
       "<matplotlib.figure.Figure at 0x1d290b9c9e8>"
      ]
     },
     "metadata": {},
     "output_type": "display_data"
    },
    {
     "data": {
      "image/png": "[encoded data removed]",
      "text/plain": [
       "<matplotlib.figure.Figure at 0x1d297e7b908>"
      ]
     },
     "metadata": {},
     "output_type": "display_data"
    }
   ],
   "source": [
    "# Grouping data by popularity and plotting budget\n",
    "\n",
    "# Bar Plot\n",
    "fig = plt.figure()\n",
    "copy_df.groupby('popularity').mean()['budget'].plot(kind='bar')\n",
    "fig.suptitle('Budget by Popularity', fontsize=20)\n",
    "plt.xlabel('Popularity', fontsize=18)\n",
    "plt.ylabel('Budget', fontsize=18)\n",
    "\n",
    "# Line Plot\n",
    "fig = plt.figure()\n",
    "copy_df.groupby('popularity').mean()['budget'].plot(kind='line')\n",
    "fig.suptitle('Budget by Popularity', fontsize=20)\n",
    "plt.xlabel('Popularity', fontsize=18)\n",
    "plt.ylabel('Budget', fontsize=18)"
   ]
  },
  {
   "cell_type": "markdown",
   "metadata": {},
   "source": [
    "As Population increased, budget increased. However, there is a break in this trend between a popularity of 4 and 6, which shows us that the budget of movies that received the popularity value that corresponds to 5 or 6 have had the same budget, but were different in popularity. This tells me that the popularity of a movie may be heavily influenced by its budget, but not completely dependent. "
   ]
  },
  {
   "cell_type": "code",
   "execution_count": 173,
   "metadata": {},
   "outputs": [
    {
     "name": "stdout",
     "output_type": "stream",
     "text": [
      "id                      2298\n",
      "imdb_id                 2298\n",
      "popularity              2298\n",
      "budget                  2298\n",
      "revenue                 2298\n",
      "original_title          2298\n",
      "cast                    2294\n",
      "homepage                 643\n",
      "director                2297\n",
      "tagline                 2060\n",
      "keywords                2184\n",
      "overview                2298\n",
      "runtime                 2298\n",
      "genres                  2298\n",
      "production_companies    2254\n",
      "release_date            2298\n",
      "vote_count              2298\n",
      "vote_average            2298\n",
      "release_year            2298\n",
      "budget_adj              2298\n",
      "revenue_adj             2298\n",
      "dtype: int64\n",
      "id                      979\n",
      "imdb_id                 979\n",
      "popularity              979\n",
      "budget                  979\n",
      "revenue                 979\n",
      "original_title          979\n",
      "cast                    979\n",
      "homepage                416\n",
      "director                979\n",
      "tagline                 950\n",
      "keywords                962\n",
      "overview                979\n",
      "runtime                 979\n",
      "genres                  979\n",
      "production_companies    979\n",
      "release_date            979\n",
      "vote_count              979\n",
      "vote_average            979\n",
      "release_year            979\n",
      "budget_adj              979\n",
      "revenue_adj             979\n",
      "dtype: int64\n",
      "id                      292\n",
      "imdb_id                 292\n",
      "popularity              292\n",
      "budget                  292\n",
      "revenue                 292\n",
      "original_title          292\n",
      "cast                    292\n",
      "homepage                170\n",
      "director                292\n",
      "tagline                 288\n",
      "keywords                290\n",
      "overview                292\n",
      "runtime                 292\n",
      "genres                  292\n",
      "production_companies    292\n",
      "release_date            292\n",
      "vote_count              292\n",
      "vote_average            292\n",
      "release_year            292\n",
      "budget_adj              292\n",
      "revenue_adj             292\n",
      "dtype: int64\n"
     ]
    }
   ],
   "source": [
    "# Creating a range for grouping movies by similar revenue values\n",
    "restrictions = [-1, 20000000, 75000000, 200000000, 5000000000]\n",
    "name = 'revenue'\n",
    "\n",
    "groupValues(name, restrictions)"
   ]
  },
  {
   "cell_type": "code",
   "execution_count": 174,
   "metadata": {},
   "outputs": [
    {
     "name": "stdout",
     "output_type": "stream",
     "text": [
      "id                      1200\n",
      "imdb_id                 1200\n",
      "popularity              1200\n",
      "budget                  1200\n",
      "revenue                 1200\n",
      "original_title          1200\n",
      "cast                    1197\n",
      "homepage                 361\n",
      "director                1199\n",
      "tagline                 1022\n",
      "keywords                1118\n",
      "overview                1200\n",
      "runtime                 1200\n",
      "genres                  1200\n",
      "production_companies    1163\n",
      "release_date            1200\n",
      "vote_count              1200\n",
      "vote_average            1200\n",
      "release_year            1200\n",
      "budget_adj              1200\n",
      "revenue_adj             1200\n",
      "dtype: int64\n",
      "id                      1178\n",
      "imdb_id                 1178\n",
      "popularity              1178\n",
      "budget                  1178\n",
      "revenue                 1178\n",
      "original_title          1178\n",
      "cast                    1177\n",
      "homepage                 360\n",
      "director                1178\n",
      "tagline                 1106\n",
      "keywords                1146\n",
      "overview                1178\n",
      "runtime                 1178\n",
      "genres                  1178\n",
      "production_companies    1172\n",
      "release_date            1178\n",
      "vote_count              1178\n",
      "vote_average            1178\n",
      "release_year            1178\n",
      "budget_adj              1178\n",
      "revenue_adj             1178\n",
      "dtype: int64\n"
     ]
    },
    {
     "data": {
      "text/plain": [
       "id                      853\n",
       "imdb_id                 853\n",
       "popularity              853\n",
       "budget                  853\n",
       "revenue                 853\n",
       "original_title          853\n",
       "cast                    853\n",
       "homepage                339\n",
       "director                853\n",
       "tagline                 835\n",
       "keywords                839\n",
       "overview                853\n",
       "runtime                 853\n",
       "genres                  853\n",
       "production_companies    852\n",
       "release_date            853\n",
       "vote_count              853\n",
       "vote_average            853\n",
       "release_year            853\n",
       "budget_adj              853\n",
       "revenue_adj             853\n",
       "dtype: int64"
      ]
     },
     "execution_count": 174,
     "metadata": {},
     "output_type": "execute_result"
    }
   ],
   "source": [
    "# Confirming the revenue grouping worked\n",
    "print(copy_df[copy_df['revenue'] == 1].count())\n",
    "print(copy_df[copy_df['revenue'] == 2].count())\n",
    "copy_df[copy_df['revenue'] == 3].count()"
   ]
  },
  {
   "cell_type": "code",
   "execution_count": 175,
   "metadata": {},
   "outputs": [
    {
     "data": {
      "text/plain": [
       "Text(0,0.5,'Budget')"
      ]
     },
     "execution_count": 175,
     "metadata": {},
     "output_type": "execute_result"
    },
    {
     "data": {
      "image/png": "[encoded data removed]",
      "text/plain": [
       "<matplotlib.figure.Figure at 0x1d297e4ec18>"
      ]
     },
     "metadata": {},
     "output_type": "display_data"
    },
    {
     "data": {
      "image/png": "[encoded data removed]",
      "text/plain": [
       "<matplotlib.figure.Figure at 0x1d2910956d8>"
      ]
     },
     "metadata": {},
     "output_type": "display_data"
    }
   ],
   "source": [
    "# Comparing Budget and Revenue through a bar and line graph\n",
    "\n",
    "# Bar Plot\n",
    "fig = plt.figure()\n",
    "copy_df.groupby('revenue').mean()['budget'].plot(kind='bar')\n",
    "fig.suptitle('Budget by Revenue', fontsize=20)\n",
    "plt.xlabel('Revenue', fontsize=18)\n",
    "plt.ylabel('Budget', fontsize=18)\n",
    "\n",
    "# Line Plot\n",
    "fig = plt.figure()\n",
    "copy_df.groupby('revenue').mean()['budget'].plot(kind='line')\n",
    "fig.suptitle('Budget by Revenue', fontsize=20)\n",
    "plt.xlabel('Revenue', fontsize=18)\n",
    "plt.ylabel('Budget', fontsize=18)"
   ]
  },
  {
   "cell_type": "markdown",
   "metadata": {},
   "source": [
    "As revenue increased, budget also increased. The interesting part about the comparison between revenue and budget that is different than the others is that it increases at a faster rate as revenue increases. This tells me that the budget of a movie is often much more as its revenue is higher. The budget of a movie is scaled less when revenue is smaller than when revenue is more. The ratio from the revenue to the budget of a movie is smaller when revenue is below the corresponding value of 2, but the ratio is much bigger when revenue is above the corresponding value of 3."
   ]
  },
  {
   "cell_type": "markdown",
   "metadata": {},
   "source": [
    "# Conclusion:"
   ]
  },
  {
   "cell_type": "markdown",
   "metadata": {},
   "source": [
    "During data cleaning, I selected specific values to get rid of values I thought would scew what I was analyzing. I meant for those values to clean the data set out of the majority of movies that seemed to be too insignificant to be included in what I was analyzing. I created values to create a range of popularity and revenue, so the data visualizations could represent more of average values of popularity and revenue between the comparisons. These range values were based on looking at values within the data set, so they are not meant for specific analysis, but broader analysis. My analysis showed me that the popularity of a movie is influenced, but not dependent on, by its budget. It also showed me that the revenue of a movie has a varying influence on its budget based on what the budget is because the ratio from revenue to budget shows to be inconsistant. During my analysis, there were a few issues I ran into that I had to deal with. Within the data set there were values that were either too low, duplicated, or not filled. These values scewed my analysis initially due to the mass amount of low revenue, budget, and popularity. I wanted to analyze the data that had values above a certain amount to meet my criteria. After grouping the data that met my criteria, I was able to continue with my data analysis, but being limited to only what I have chosen."
   ]
  }
 ],
 "metadata": {
  "kernelspec": {
   "display_name": "Python 3",
   "language": "python",
   "name": "python3"
  },
  "language_info": {
   "codemirror_mode": {
    "name": "ipython",
    "version": 3
   },
   "file_extension": ".py",
   "mimetype": "text/x-python",
   "name": "python",
   "nbconvert_exporter": "python",
   "pygments_lexer": "ipython3",
   "version": "3.6.4"
  }
 },
 "nbformat": 4,
 "nbformat_minor": 2
}
